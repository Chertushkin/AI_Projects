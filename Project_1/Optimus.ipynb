{
  "nbformat": 4,
  "nbformat_minor": 0,
  "metadata": {
    "colab": {
      "name": "Optimus.ipynb",
      "provenance": [],
      "collapsed_sections": []
    },
    "kernelspec": {
      "name": "python3",
      "display_name": "Python 3"
    },
    "accelerator": "GPU"
  },
  "cells": [
    {
      "cell_type": "code",
      "metadata": {
        "id": "DPyrEuZlEU7N",
        "colab_type": "code",
        "colab": {}
      },
      "source": [
        "import random\n",
        "import numpy as np\n",
        "import pandas as pd\n",
        "from sklearn.linear_model import LogisticRegression\n",
        "from sklearn.metrics import accuracy_score\n",
        "from sklearn.feature_extraction.text import TfidfVectorizer, CountVectorizer\n",
        "from sklearn.model_selection import train_test_split\n",
        "import itertools"
      ],
      "execution_count": 0,
      "outputs": []
    },
    {
      "cell_type": "code",
      "metadata": {
        "id": "FVGG9vH3GxaQ",
        "colab_type": "code",
        "colab": {}
      },
      "source": [
        "# import random, string\n",
        "# password = ''.join(random.choice(string.ascii_letters + string.digits) for i in range(20))\n",
        "\n",
        "# #Download ngrok\n",
        "# ! wget -q -c -nc https://bin.equinox.io/c/4VmDzA7iaHb/ngrok-stable-linux-amd64.zip\n",
        "# ! unzip -qq -n ngrok-stable-linux-amd64.zip\n",
        "# #Setup sshd\n",
        "# ! apt-get install -qq -o=Dpkg::Use-Pty=0 openssh-server pwgen > /dev/null\n",
        "# #Set root password\n",
        "# ! echo root:$password | chpasswd\n",
        "# ! mkdir -p /var/run/sshd\n",
        "# ! echo \"PermitRootLogin yes\" >> /etc/ssh/sshd_config\n",
        "# ! echo \"PasswordAuthentication yes\" >> /etc/ssh/sshd_config\n",
        "# ! echo \"LD_LIBRARY_PATH=/usr/lib64-nvidia\" >> /root/.bashrc\n",
        "# ! echo \"export LD_LIBRARY_PATH\" >> /root/.bashrc\n",
        "\n",
        "# #Run sshd\n",
        "# get_ipython().system_raw('/usr/sbin/sshd -D &')\n",
        "\n",
        "# #Ask token\n",
        "# print(\"Copy authtoken from https://dashboard.ngrok.com/auth\")\n",
        "# import getpass\n",
        "# authtoken = getpass.getpass()\n",
        "\n",
        "# #Create tunnel\n",
        "# get_ipython().system_raw('./ngrok authtoken $authtoken && ./ngrok tcp 22 &')\n",
        "# #Print root password\n",
        "# print(\"Root password: {}\".format(password))\n",
        "# #Get public address\n",
        "# ! curl -s http://localhost:4040/api/tunnels | python3 -c \\\n",
        "#     \"import sys, json; print(json.load(sys.stdin)['tunnels'][0]['public_url'])\""
      ],
      "execution_count": 0,
      "outputs": []
    },
    {
      "cell_type": "code",
      "metadata": {
        "id": "M9ukhzsVLEdv",
        "colab_type": "code",
        "outputId": "8c93a55e-b463-46dd-aab5-a499d2a27931",
        "colab": {
          "base_uri": "https://localhost:8080/",
          "height": 316
        }
      },
      "source": [
        "!nvidia-smi"
      ],
      "execution_count": 205,
      "outputs": [
        {
          "output_type": "stream",
          "text": [
            "Thu Mar 12 13:11:54 2020       \n",
            "+-----------------------------------------------------------------------------+\n",
            "| NVIDIA-SMI 440.59       Driver Version: 418.67       CUDA Version: 10.1     |\n",
            "|-------------------------------+----------------------+----------------------+\n",
            "| GPU  Name        Persistence-M| Bus-Id        Disp.A | Volatile Uncorr. ECC |\n",
            "| Fan  Temp  Perf  Pwr:Usage/Cap|         Memory-Usage | GPU-Util  Compute M. |\n",
            "|===============================+======================+======================|\n",
            "|   0  Tesla K80           Off  | 00000000:00:04.0 Off |                    0 |\n",
            "| N/A   33C    P8    26W / 149W |      0MiB / 11441MiB |      0%      Default |\n",
            "+-------------------------------+----------------------+----------------------+\n",
            "                                                                               \n",
            "+-----------------------------------------------------------------------------+\n",
            "| Processes:                                                       GPU Memory |\n",
            "|  GPU       PID   Type   Process name                             Usage      |\n",
            "|=============================================================================|\n",
            "|  No running processes found                                                 |\n",
            "+-----------------------------------------------------------------------------+\n"
          ],
          "name": "stdout"
        }
      ]
    },
    {
      "cell_type": "code",
      "metadata": {
        "id": "O2FMJqmWJCcb",
        "colab_type": "code",
        "colab": {}
      },
      "source": [
        "# ! curl -s http://localhost:4040/api/tunnels | python3 -c \\\n",
        "#     \"import sys, json; print(json.load(sys.stdin)['tunnels'][0]['public_url'])\""
      ],
      "execution_count": 0,
      "outputs": []
    },
    {
      "cell_type": "code",
      "metadata": {
        "id": "9f_7FsZ3E2Dy",
        "colab_type": "code",
        "colab": {}
      },
      "source": [
        "#!wget https://www.kaggle.com/c/sentiment-analysis-on-movie-reviews/download/P5ocxmvCguW59E8YFZnh%2Fversions%2FUNHbff4Y6pynSWzk4vQQ%2Ffiles%2Ftest.tsv.zip"
      ],
      "execution_count": 0,
      "outputs": []
    },
    {
      "cell_type": "code",
      "metadata": {
        "id": "87BiH7yWFcRW",
        "colab_type": "code",
        "outputId": "b5460478-315b-495b-dd5f-c704fa426637",
        "colab": {
          "base_uri": "https://localhost:8080/",
          "height": 87
        }
      },
      "source": [
        "!unzip train.tsv.zip\n",
        "!unzip test.tsv.zip"
      ],
      "execution_count": 3,
      "outputs": [
        {
          "output_type": "stream",
          "text": [
            "Archive:  train.tsv.zip\n",
            "  inflating: train.tsv               \n",
            "Archive:  test.tsv.zip\n",
            "  inflating: test.tsv                \n"
          ],
          "name": "stdout"
        }
      ]
    },
    {
      "cell_type": "code",
      "metadata": {
        "id": "38K1jsK3Eeuy",
        "colab_type": "code",
        "colab": {}
      },
      "source": [
        "train_df = pd.read_csv('train.tsv', delimiter='\\t')"
      ],
      "execution_count": 0,
      "outputs": []
    },
    {
      "cell_type": "code",
      "metadata": {
        "id": "ooFo2WWtOWX-",
        "colab_type": "code",
        "outputId": "f7b947d1-1491-4f7d-8a8d-28118c0b72b1",
        "colab": {
          "base_uri": "https://localhost:8080/",
          "height": 203
        }
      },
      "source": [
        "train_df.head()"
      ],
      "execution_count": 207,
      "outputs": [
        {
          "output_type": "execute_result",
          "data": {
            "text/html": [
              "<div>\n",
              "<style scoped>\n",
              "    .dataframe tbody tr th:only-of-type {\n",
              "        vertical-align: middle;\n",
              "    }\n",
              "\n",
              "    .dataframe tbody tr th {\n",
              "        vertical-align: top;\n",
              "    }\n",
              "\n",
              "    .dataframe thead th {\n",
              "        text-align: right;\n",
              "    }\n",
              "</style>\n",
              "<table border=\"1\" class=\"dataframe\">\n",
              "  <thead>\n",
              "    <tr style=\"text-align: right;\">\n",
              "      <th></th>\n",
              "      <th>PhraseId</th>\n",
              "      <th>SentenceId</th>\n",
              "      <th>Phrase</th>\n",
              "      <th>Sentiment</th>\n",
              "    </tr>\n",
              "  </thead>\n",
              "  <tbody>\n",
              "    <tr>\n",
              "      <th>0</th>\n",
              "      <td>1</td>\n",
              "      <td>1</td>\n",
              "      <td>A series of escapades demonstrating the adage ...</td>\n",
              "      <td>1</td>\n",
              "    </tr>\n",
              "    <tr>\n",
              "      <th>1</th>\n",
              "      <td>2</td>\n",
              "      <td>1</td>\n",
              "      <td>A series of escapades demonstrating the adage ...</td>\n",
              "      <td>2</td>\n",
              "    </tr>\n",
              "    <tr>\n",
              "      <th>2</th>\n",
              "      <td>3</td>\n",
              "      <td>1</td>\n",
              "      <td>A series</td>\n",
              "      <td>2</td>\n",
              "    </tr>\n",
              "    <tr>\n",
              "      <th>3</th>\n",
              "      <td>4</td>\n",
              "      <td>1</td>\n",
              "      <td>A</td>\n",
              "      <td>2</td>\n",
              "    </tr>\n",
              "    <tr>\n",
              "      <th>4</th>\n",
              "      <td>5</td>\n",
              "      <td>1</td>\n",
              "      <td>series</td>\n",
              "      <td>2</td>\n",
              "    </tr>\n",
              "  </tbody>\n",
              "</table>\n",
              "</div>"
            ],
            "text/plain": [
              "   PhraseId  ...  Sentiment\n",
              "0         1  ...          1\n",
              "1         2  ...          2\n",
              "2         3  ...          2\n",
              "3         4  ...          2\n",
              "4         5  ...          2\n",
              "\n",
              "[5 rows x 4 columns]"
            ]
          },
          "metadata": {
            "tags": []
          },
          "execution_count": 207
        }
      ]
    },
    {
      "cell_type": "code",
      "metadata": {
        "id": "xJAo87VjQbhA",
        "colab_type": "code",
        "colab": {}
      },
      "source": [
        "params = {'C': [1.0, 0.1], 'fit_intercept':[False], 'ngram_range':[(1,3)], 'max_features':[10000, 5000], 'max_iter':[1000, 500], 'use_tf_idf':[True, False], 'analyzer':['word']}"
      ],
      "execution_count": 0,
      "outputs": []
    },
    {
      "cell_type": "code",
      "metadata": {
        "id": "Xq5R8-ZIF5XX",
        "colab_type": "code",
        "colab": {}
      },
      "source": [
        "class TrainAgent():\n",
        "    def __init__(self, combination):\n",
        "        self.combination = combination\n",
        "\n",
        "    def get_performance(self, X_train, X_test, y_train, y_test):\n",
        "        combination = self.combination\n",
        "\n",
        "        C = combination['C']\n",
        "        fit_intercept=combination['fit_intercept']\n",
        "        max_features = combination['max_features']\n",
        "        ngram_range = combination['ngram_range']\n",
        "        max_iter = combination['max_iter']\n",
        "        use_tf_idf = combination['use_tf_idf']\n",
        "        analyzer = combination['analyzer']\n",
        "\n",
        "        if use_tf_idf:\n",
        "            vect = TfidfVectorizer(max_features=max_features, ngram_range=ngram_range, analyzer=analyzer, dtype=np.float32)\n",
        "        else:\n",
        "            vect = CountVectorizer(max_features=max_features, ngram_range=ngram_range, analyzer=analyzer, dtype=np.float32)\n",
        "\n",
        "        vect = vect.fit(X_train)\n",
        "        X_train_i = vect.transform(X_train)\n",
        "        X_test_i = vect.transform(X_test)\n",
        "        clf = LogisticRegression(C=C, fit_intercept=fit_intercept, max_iter=max_iter)\n",
        "        clf.fit(X_train_i, y_train)\n",
        "        y_predictions = clf.predict(X_test_i)\n",
        "        return accuracy_score(y_test, y_predictions)\n",
        "\n",
        "\n",
        "class Optimus():\n",
        "    def __init__(self, params):\n",
        "        self._recalculate_combinations(params)\n",
        "\n",
        "    def _recalculate_combinations(self, params):\n",
        "        self.params = params\n",
        "        self.combinations = self._get_all_combinations(self.params)\n",
        "        print('Optimus hyper-space is instantiated')\n",
        "        print(f'Total: {len(self.combinations)} possible combinations:')\n",
        "        print(self.combinations)\n",
        "\n",
        "\n",
        "    def _find_prospective_difference(self, dict_1, dict_2):\n",
        "        accuracy_1 = dict_1[0]\n",
        "        accuracy_2 = dict_2[0]\n",
        "        ls_1 = dict_1[1]\n",
        "        ls_2 = dict_2[1]\n",
        "        keys_1 = ls_1.keys()\n",
        "        keys_2 = ls_2.keys()\n",
        "        int_keys = ['max_iter', 'max_features']\n",
        "        float_keys = ['C']\n",
        "        prospective_params = {k:[] for k in keys_1}\n",
        "        for (i, (key_1, key_2)) in enumerate(zip(keys_1, keys_2)):\n",
        "            value_1 = ls_1[key_1]\n",
        "            value_2 = ls_2[key_2]\n",
        "            if value_1 >= value_2 and accuracy_1 >= accuracy_2 and key_1 in float_keys:\n",
        "                prospective_params[key_1].append(value_1 + 0.1)\n",
        "            elif value_1 <= value_2 and accuracy_1 >= accuracy_2 and key_1 in float_keys:\n",
        "                prospective_params[key_1].append(value_1 - 0.1)\n",
        "            elif value_1 >= value_2 and accuracy_1 >= accuracy_2 and key_1 in int_keys:\n",
        "                prospective_params[key_1].append(value_1 + 5)\n",
        "            elif value_1 <= value_2 and accuracy_1 >= accuracy_2 and key_1 in int_keys:\n",
        "                prospective_params[key_1].append(value_1 - 5)\n",
        "        return prospective_params\n",
        "\n",
        "    def _adjust_params_from_agents(self, iteration_result):\n",
        "        best_2_agents = iteration_result[0:2]\n",
        "        result = self.params\n",
        "        for i in best_2_agents:\n",
        "            for j in best_2_agents:\n",
        "                prospective_params = self._find_prospective_difference(i, j)\n",
        "                for key in self.params.keys():\n",
        "                    values = prospective_params[key]\n",
        "                    for v in values:\n",
        "                        if v not in self.params[key]:\n",
        "                            self.params[key].append(v)\n",
        "                            self.params[key] = self.params[key][1:]\n",
        "        return self.params\n",
        "\n",
        "    def _get_all_combinations(self, params):\n",
        "        return [{'C' : x,'fit_intercept' : y, \n",
        "                 'ngram_range' : z, \n",
        "                 'max_features' : i, \n",
        "                 'max_iter': j, \n",
        "                 'use_tf_idf':k, \n",
        "                 'analyzer':l} \n",
        "                for x in params['C'] \n",
        "                for y in params['fit_intercept'] \n",
        "                for z in params['ngram_range']\n",
        "                for i in params['max_features']\n",
        "                for j in params['max_iter']\n",
        "                for k in params['use_tf_idf']\n",
        "                for l in params['analyzer']]\n",
        "\n",
        "    def _perform_hyper_search(self, train):\n",
        "        X_train = train['Phrase'].values\n",
        "        y_train = train['Sentiment'].values\n",
        "        X_train, X_test, y_train, y_test = train_test_split(X_train, y_train, test_size=0.2, random_state=42)\n",
        "        result = []\n",
        "        for combination in self.combinations:\n",
        "            agent = TrainAgent(combination)\n",
        "            accuracy = agent.get_performance(X_train, X_test, y_train, y_test)\n",
        "            result.append((accuracy, combination))\n",
        "            print(f'Agent is spanned with current combination: {combination}')\n",
        "            print(f'Accuracy for combination is: {accuracy}')\n",
        "        return sorted(result, key=lambda x: x[0], reverse=True)\n",
        "\n",
        "    def perform_optimus_search(self, train, iter = 3):\n",
        "        for i in range(iter):\n",
        "            print(f'Iteration: {i}')\n",
        "            iteration_result = self._perform_hyper_search(train)\n",
        "            new_params = self._adjust_params_from_agents(iteration_result)\n",
        "            self._recalculate_combinations(new_params)\n",
        "        return iteration_result"
      ],
      "execution_count": 0,
      "outputs": []
    },
    {
      "cell_type": "code",
      "metadata": {
        "id": "lVZYCZQoOxod",
        "colab_type": "code",
        "outputId": "9e324094-cfc3-4df2-a1e8-f7c52ab27f46",
        "colab": {
          "base_uri": "https://localhost:8080/",
          "height": 90
        }
      },
      "source": [
        "optimus = Optimus(params)"
      ],
      "execution_count": 210,
      "outputs": [
        {
          "output_type": "stream",
          "text": [
            "Optimus hyper-space is instantiated\n",
            "Total: 16 possible combinations:\n",
            "[{'C': 1.0, 'fit_intercept': False, 'ngram_range': (1, 3), 'max_features': 10000, 'max_iter': 1000, 'use_tf_idf': True, 'analyzer': 'word'}, {'C': 1.0, 'fit_intercept': False, 'ngram_range': (1, 3), 'max_features': 10000, 'max_iter': 1000, 'use_tf_idf': False, 'analyzer': 'word'}, {'C': 1.0, 'fit_intercept': False, 'ngram_range': (1, 3), 'max_features': 10000, 'max_iter': 500, 'use_tf_idf': True, 'analyzer': 'word'}, {'C': 1.0, 'fit_intercept': False, 'ngram_range': (1, 3), 'max_features': 10000, 'max_iter': 500, 'use_tf_idf': False, 'analyzer': 'word'}, {'C': 1.0, 'fit_intercept': False, 'ngram_range': (1, 3), 'max_features': 5000, 'max_iter': 1000, 'use_tf_idf': True, 'analyzer': 'word'}, {'C': 1.0, 'fit_intercept': False, 'ngram_range': (1, 3), 'max_features': 5000, 'max_iter': 1000, 'use_tf_idf': False, 'analyzer': 'word'}, {'C': 1.0, 'fit_intercept': False, 'ngram_range': (1, 3), 'max_features': 5000, 'max_iter': 500, 'use_tf_idf': True, 'analyzer': 'word'}, {'C': 1.0, 'fit_intercept': False, 'ngram_range': (1, 3), 'max_features': 5000, 'max_iter': 500, 'use_tf_idf': False, 'analyzer': 'word'}, {'C': 0.1, 'fit_intercept': False, 'ngram_range': (1, 3), 'max_features': 10000, 'max_iter': 1000, 'use_tf_idf': True, 'analyzer': 'word'}, {'C': 0.1, 'fit_intercept': False, 'ngram_range': (1, 3), 'max_features': 10000, 'max_iter': 1000, 'use_tf_idf': False, 'analyzer': 'word'}, {'C': 0.1, 'fit_intercept': False, 'ngram_range': (1, 3), 'max_features': 10000, 'max_iter': 500, 'use_tf_idf': True, 'analyzer': 'word'}, {'C': 0.1, 'fit_intercept': False, 'ngram_range': (1, 3), 'max_features': 10000, 'max_iter': 500, 'use_tf_idf': False, 'analyzer': 'word'}, {'C': 0.1, 'fit_intercept': False, 'ngram_range': (1, 3), 'max_features': 5000, 'max_iter': 1000, 'use_tf_idf': True, 'analyzer': 'word'}, {'C': 0.1, 'fit_intercept': False, 'ngram_range': (1, 3), 'max_features': 5000, 'max_iter': 1000, 'use_tf_idf': False, 'analyzer': 'word'}, {'C': 0.1, 'fit_intercept': False, 'ngram_range': (1, 3), 'max_features': 5000, 'max_iter': 500, 'use_tf_idf': True, 'analyzer': 'word'}, {'C': 0.1, 'fit_intercept': False, 'ngram_range': (1, 3), 'max_features': 5000, 'max_iter': 500, 'use_tf_idf': False, 'analyzer': 'word'}]\n"
          ],
          "name": "stdout"
        }
      ]
    },
    {
      "cell_type": "code",
      "metadata": {
        "id": "0HDSjPU514KP",
        "colab_type": "code",
        "colab": {
          "base_uri": "https://localhost:8080/",
          "height": 1000
        },
        "outputId": "f04e5f88-01c5-43ac-c7ef-86eef15ee3b6"
      },
      "source": [
        "final_result = optimus.perform_optimus_search(train_df)"
      ],
      "execution_count": 211,
      "outputs": [
        {
          "output_type": "stream",
          "text": [
            "Iteration: 0\n",
            "Agent is spanned with current combination: {'C': 1.0, 'fit_intercept': False, 'ngram_range': (1, 3), 'max_features': 10000, 'max_iter': 1000, 'use_tf_idf': True, 'analyzer': 'word'}\n",
            "Accuracy for combination is: 0.525599128540305\n",
            "Agent is spanned with current combination: {'C': 1.0, 'fit_intercept': False, 'ngram_range': (1, 3), 'max_features': 10000, 'max_iter': 1000, 'use_tf_idf': False, 'analyzer': 'word'}\n",
            "Accuracy for combination is: 0.5087145969498911\n",
            "Agent is spanned with current combination: {'C': 1.0, 'fit_intercept': False, 'ngram_range': (1, 3), 'max_features': 10000, 'max_iter': 500, 'use_tf_idf': True, 'analyzer': 'word'}\n",
            "Accuracy for combination is: 0.525599128540305\n",
            "Agent is spanned with current combination: {'C': 1.0, 'fit_intercept': False, 'ngram_range': (1, 3), 'max_features': 10000, 'max_iter': 500, 'use_tf_idf': False, 'analyzer': 'word'}\n",
            "Accuracy for combination is: 0.5087145969498911\n",
            "Agent is spanned with current combination: {'C': 1.0, 'fit_intercept': False, 'ngram_range': (1, 3), 'max_features': 5000, 'max_iter': 1000, 'use_tf_idf': True, 'analyzer': 'word'}\n",
            "Accuracy for combination is: 0.5006087402281174\n",
            "Agent is spanned with current combination: {'C': 1.0, 'fit_intercept': False, 'ngram_range': (1, 3), 'max_features': 5000, 'max_iter': 1000, 'use_tf_idf': False, 'analyzer': 'word'}\n",
            "Accuracy for combination is: 0.47792515699090093\n",
            "Agent is spanned with current combination: {'C': 1.0, 'fit_intercept': False, 'ngram_range': (1, 3), 'max_features': 5000, 'max_iter': 500, 'use_tf_idf': True, 'analyzer': 'word'}\n",
            "Accuracy for combination is: 0.5006087402281174\n",
            "Agent is spanned with current combination: {'C': 1.0, 'fit_intercept': False, 'ngram_range': (1, 3), 'max_features': 5000, 'max_iter': 500, 'use_tf_idf': False, 'analyzer': 'word'}\n",
            "Accuracy for combination is: 0.47792515699090093\n",
            "Agent is spanned with current combination: {'C': 0.1, 'fit_intercept': False, 'ngram_range': (1, 3), 'max_features': 10000, 'max_iter': 1000, 'use_tf_idf': True, 'analyzer': 'word'}\n",
            "Accuracy for combination is: 0.5018582596437268\n",
            "Agent is spanned with current combination: {'C': 0.1, 'fit_intercept': False, 'ngram_range': (1, 3), 'max_features': 10000, 'max_iter': 1000, 'use_tf_idf': False, 'analyzer': 'word'}\n",
            "Accuracy for combination is: 0.5042291426374471\n",
            "Agent is spanned with current combination: {'C': 0.1, 'fit_intercept': False, 'ngram_range': (1, 3), 'max_features': 10000, 'max_iter': 500, 'use_tf_idf': True, 'analyzer': 'word'}\n",
            "Accuracy for combination is: 0.5018582596437268\n",
            "Agent is spanned with current combination: {'C': 0.1, 'fit_intercept': False, 'ngram_range': (1, 3), 'max_features': 10000, 'max_iter': 500, 'use_tf_idf': False, 'analyzer': 'word'}\n",
            "Accuracy for combination is: 0.5042291426374471\n",
            "Agent is spanned with current combination: {'C': 0.1, 'fit_intercept': False, 'ngram_range': (1, 3), 'max_features': 5000, 'max_iter': 1000, 'use_tf_idf': True, 'analyzer': 'word'}\n",
            "Accuracy for combination is: 0.4865436370626682\n",
            "Agent is spanned with current combination: {'C': 0.1, 'fit_intercept': False, 'ngram_range': (1, 3), 'max_features': 5000, 'max_iter': 1000, 'use_tf_idf': False, 'analyzer': 'word'}\n",
            "Accuracy for combination is: 0.475522235037806\n",
            "Agent is spanned with current combination: {'C': 0.1, 'fit_intercept': False, 'ngram_range': (1, 3), 'max_features': 5000, 'max_iter': 500, 'use_tf_idf': True, 'analyzer': 'word'}\n",
            "Accuracy for combination is: 0.4865436370626682\n",
            "Agent is spanned with current combination: {'C': 0.1, 'fit_intercept': False, 'ngram_range': (1, 3), 'max_features': 5000, 'max_iter': 500, 'use_tf_idf': False, 'analyzer': 'word'}\n",
            "Accuracy for combination is: 0.475522235037806\n",
            "Optimus hyper-space is instantiated\n",
            "Total: 16 possible combinations:\n",
            "[{'C': 0.1, 'fit_intercept': False, 'ngram_range': (1, 3), 'max_features': 5000, 'max_iter': 495, 'use_tf_idf': True, 'analyzer': 'word'}, {'C': 0.1, 'fit_intercept': False, 'ngram_range': (1, 3), 'max_features': 5000, 'max_iter': 495, 'use_tf_idf': False, 'analyzer': 'word'}, {'C': 0.1, 'fit_intercept': False, 'ngram_range': (1, 3), 'max_features': 5000, 'max_iter': 505, 'use_tf_idf': True, 'analyzer': 'word'}, {'C': 0.1, 'fit_intercept': False, 'ngram_range': (1, 3), 'max_features': 5000, 'max_iter': 505, 'use_tf_idf': False, 'analyzer': 'word'}, {'C': 0.1, 'fit_intercept': False, 'ngram_range': (1, 3), 'max_features': 10005, 'max_iter': 495, 'use_tf_idf': True, 'analyzer': 'word'}, {'C': 0.1, 'fit_intercept': False, 'ngram_range': (1, 3), 'max_features': 10005, 'max_iter': 495, 'use_tf_idf': False, 'analyzer': 'word'}, {'C': 0.1, 'fit_intercept': False, 'ngram_range': (1, 3), 'max_features': 10005, 'max_iter': 505, 'use_tf_idf': True, 'analyzer': 'word'}, {'C': 0.1, 'fit_intercept': False, 'ngram_range': (1, 3), 'max_features': 10005, 'max_iter': 505, 'use_tf_idf': False, 'analyzer': 'word'}, {'C': 1.1, 'fit_intercept': False, 'ngram_range': (1, 3), 'max_features': 5000, 'max_iter': 495, 'use_tf_idf': True, 'analyzer': 'word'}, {'C': 1.1, 'fit_intercept': False, 'ngram_range': (1, 3), 'max_features': 5000, 'max_iter': 495, 'use_tf_idf': False, 'analyzer': 'word'}, {'C': 1.1, 'fit_intercept': False, 'ngram_range': (1, 3), 'max_features': 5000, 'max_iter': 505, 'use_tf_idf': True, 'analyzer': 'word'}, {'C': 1.1, 'fit_intercept': False, 'ngram_range': (1, 3), 'max_features': 5000, 'max_iter': 505, 'use_tf_idf': False, 'analyzer': 'word'}, {'C': 1.1, 'fit_intercept': False, 'ngram_range': (1, 3), 'max_features': 10005, 'max_iter': 495, 'use_tf_idf': True, 'analyzer': 'word'}, {'C': 1.1, 'fit_intercept': False, 'ngram_range': (1, 3), 'max_features': 10005, 'max_iter': 495, 'use_tf_idf': False, 'analyzer': 'word'}, {'C': 1.1, 'fit_intercept': False, 'ngram_range': (1, 3), 'max_features': 10005, 'max_iter': 505, 'use_tf_idf': True, 'analyzer': 'word'}, {'C': 1.1, 'fit_intercept': False, 'ngram_range': (1, 3), 'max_features': 10005, 'max_iter': 505, 'use_tf_idf': False, 'analyzer': 'word'}]\n",
            "Iteration: 1\n",
            "Agent is spanned with current combination: {'C': 0.1, 'fit_intercept': False, 'ngram_range': (1, 3), 'max_features': 5000, 'max_iter': 495, 'use_tf_idf': True, 'analyzer': 'word'}\n",
            "Accuracy for combination is: 0.4865436370626682\n",
            "Agent is spanned with current combination: {'C': 0.1, 'fit_intercept': False, 'ngram_range': (1, 3), 'max_features': 5000, 'max_iter': 495, 'use_tf_idf': False, 'analyzer': 'word'}\n",
            "Accuracy for combination is: 0.475522235037806\n",
            "Agent is spanned with current combination: {'C': 0.1, 'fit_intercept': False, 'ngram_range': (1, 3), 'max_features': 5000, 'max_iter': 505, 'use_tf_idf': True, 'analyzer': 'word'}\n",
            "Accuracy for combination is: 0.4865436370626682\n",
            "Agent is spanned with current combination: {'C': 0.1, 'fit_intercept': False, 'ngram_range': (1, 3), 'max_features': 5000, 'max_iter': 505, 'use_tf_idf': False, 'analyzer': 'word'}\n",
            "Accuracy for combination is: 0.475522235037806\n",
            "Agent is spanned with current combination: {'C': 0.1, 'fit_intercept': False, 'ngram_range': (1, 3), 'max_features': 10005, 'max_iter': 495, 'use_tf_idf': True, 'analyzer': 'word'}\n",
            "Accuracy for combination is: 0.5016980648468538\n",
            "Agent is spanned with current combination: {'C': 0.1, 'fit_intercept': False, 'ngram_range': (1, 3), 'max_features': 10005, 'max_iter': 495, 'use_tf_idf': False, 'analyzer': 'word'}\n",
            "Accuracy for combination is: 0.5041971036780726\n",
            "Agent is spanned with current combination: {'C': 0.1, 'fit_intercept': False, 'ngram_range': (1, 3), 'max_features': 10005, 'max_iter': 505, 'use_tf_idf': True, 'analyzer': 'word'}\n",
            "Accuracy for combination is: 0.5016980648468538\n",
            "Agent is spanned with current combination: {'C': 0.1, 'fit_intercept': False, 'ngram_range': (1, 3), 'max_features': 10005, 'max_iter': 505, 'use_tf_idf': False, 'analyzer': 'word'}\n",
            "Accuracy for combination is: 0.5041971036780726\n",
            "Agent is spanned with current combination: {'C': 1.1, 'fit_intercept': False, 'ngram_range': (1, 3), 'max_features': 5000, 'max_iter': 495, 'use_tf_idf': True, 'analyzer': 'word'}\n",
            "Accuracy for combination is: 0.5009932077406126\n",
            "Agent is spanned with current combination: {'C': 1.1, 'fit_intercept': False, 'ngram_range': (1, 3), 'max_features': 5000, 'max_iter': 495, 'use_tf_idf': False, 'analyzer': 'word'}\n",
            "Accuracy for combination is: 0.47728437780340893\n",
            "Agent is spanned with current combination: {'C': 1.1, 'fit_intercept': False, 'ngram_range': (1, 3), 'max_features': 5000, 'max_iter': 505, 'use_tf_idf': True, 'analyzer': 'word'}\n",
            "Accuracy for combination is: 0.5009932077406126\n",
            "Agent is spanned with current combination: {'C': 1.1, 'fit_intercept': False, 'ngram_range': (1, 3), 'max_features': 5000, 'max_iter': 505, 'use_tf_idf': False, 'analyzer': 'word'}\n",
            "Accuracy for combination is: 0.47728437780340893\n",
            "Agent is spanned with current combination: {'C': 1.1, 'fit_intercept': False, 'ngram_range': (1, 3), 'max_features': 10005, 'max_iter': 495, 'use_tf_idf': True, 'analyzer': 'word'}\n",
            "Accuracy for combination is: 0.5260476739715494\n",
            "Agent is spanned with current combination: {'C': 1.1, 'fit_intercept': False, 'ngram_range': (1, 3), 'max_features': 10005, 'max_iter': 495, 'use_tf_idf': False, 'analyzer': 'word'}\n",
            "Accuracy for combination is: 0.5086184800717672\n",
            "Agent is spanned with current combination: {'C': 1.1, 'fit_intercept': False, 'ngram_range': (1, 3), 'max_features': 10005, 'max_iter': 505, 'use_tf_idf': True, 'analyzer': 'word'}\n",
            "Accuracy for combination is: 0.5260476739715494\n",
            "Agent is spanned with current combination: {'C': 1.1, 'fit_intercept': False, 'ngram_range': (1, 3), 'max_features': 10005, 'max_iter': 505, 'use_tf_idf': False, 'analyzer': 'word'}\n",
            "Accuracy for combination is: 0.5086184800717672\n",
            "Optimus hyper-space is instantiated\n",
            "Total: 16 possible combinations:\n",
            "[{'C': 1.1, 'fit_intercept': False, 'ngram_range': (1, 3), 'max_features': 10005, 'max_iter': 490, 'use_tf_idf': True, 'analyzer': 'word'}, {'C': 1.1, 'fit_intercept': False, 'ngram_range': (1, 3), 'max_features': 10005, 'max_iter': 490, 'use_tf_idf': False, 'analyzer': 'word'}, {'C': 1.1, 'fit_intercept': False, 'ngram_range': (1, 3), 'max_features': 10005, 'max_iter': 510, 'use_tf_idf': True, 'analyzer': 'word'}, {'C': 1.1, 'fit_intercept': False, 'ngram_range': (1, 3), 'max_features': 10005, 'max_iter': 510, 'use_tf_idf': False, 'analyzer': 'word'}, {'C': 1.1, 'fit_intercept': False, 'ngram_range': (1, 3), 'max_features': 10010, 'max_iter': 490, 'use_tf_idf': True, 'analyzer': 'word'}, {'C': 1.1, 'fit_intercept': False, 'ngram_range': (1, 3), 'max_features': 10010, 'max_iter': 490, 'use_tf_idf': False, 'analyzer': 'word'}, {'C': 1.1, 'fit_intercept': False, 'ngram_range': (1, 3), 'max_features': 10010, 'max_iter': 510, 'use_tf_idf': True, 'analyzer': 'word'}, {'C': 1.1, 'fit_intercept': False, 'ngram_range': (1, 3), 'max_features': 10010, 'max_iter': 510, 'use_tf_idf': False, 'analyzer': 'word'}, {'C': 1.2000000000000002, 'fit_intercept': False, 'ngram_range': (1, 3), 'max_features': 10005, 'max_iter': 490, 'use_tf_idf': True, 'analyzer': 'word'}, {'C': 1.2000000000000002, 'fit_intercept': False, 'ngram_range': (1, 3), 'max_features': 10005, 'max_iter': 490, 'use_tf_idf': False, 'analyzer': 'word'}, {'C': 1.2000000000000002, 'fit_intercept': False, 'ngram_range': (1, 3), 'max_features': 10005, 'max_iter': 510, 'use_tf_idf': True, 'analyzer': 'word'}, {'C': 1.2000000000000002, 'fit_intercept': False, 'ngram_range': (1, 3), 'max_features': 10005, 'max_iter': 510, 'use_tf_idf': False, 'analyzer': 'word'}, {'C': 1.2000000000000002, 'fit_intercept': False, 'ngram_range': (1, 3), 'max_features': 10010, 'max_iter': 490, 'use_tf_idf': True, 'analyzer': 'word'}, {'C': 1.2000000000000002, 'fit_intercept': False, 'ngram_range': (1, 3), 'max_features': 10010, 'max_iter': 490, 'use_tf_idf': False, 'analyzer': 'word'}, {'C': 1.2000000000000002, 'fit_intercept': False, 'ngram_range': (1, 3), 'max_features': 10010, 'max_iter': 510, 'use_tf_idf': True, 'analyzer': 'word'}, {'C': 1.2000000000000002, 'fit_intercept': False, 'ngram_range': (1, 3), 'max_features': 10010, 'max_iter': 510, 'use_tf_idf': False, 'analyzer': 'word'}]\n",
            "Iteration: 2\n",
            "Agent is spanned with current combination: {'C': 1.1, 'fit_intercept': False, 'ngram_range': (1, 3), 'max_features': 10005, 'max_iter': 490, 'use_tf_idf': True, 'analyzer': 'word'}\n",
            "Accuracy for combination is: 0.5260476739715494\n",
            "Agent is spanned with current combination: {'C': 1.1, 'fit_intercept': False, 'ngram_range': (1, 3), 'max_features': 10005, 'max_iter': 490, 'use_tf_idf': False, 'analyzer': 'word'}\n",
            "Accuracy for combination is: 0.5086184800717672\n",
            "Agent is spanned with current combination: {'C': 1.1, 'fit_intercept': False, 'ngram_range': (1, 3), 'max_features': 10005, 'max_iter': 510, 'use_tf_idf': True, 'analyzer': 'word'}\n",
            "Accuracy for combination is: 0.5260476739715494\n",
            "Agent is spanned with current combination: {'C': 1.1, 'fit_intercept': False, 'ngram_range': (1, 3), 'max_features': 10005, 'max_iter': 510, 'use_tf_idf': False, 'analyzer': 'word'}\n",
            "Accuracy for combination is: 0.5086184800717672\n",
            "Agent is spanned with current combination: {'C': 1.1, 'fit_intercept': False, 'ngram_range': (1, 3), 'max_features': 10010, 'max_iter': 490, 'use_tf_idf': True, 'analyzer': 'word'}\n",
            "Accuracy for combination is: 0.526239907727797\n",
            "Agent is spanned with current combination: {'C': 1.1, 'fit_intercept': False, 'ngram_range': (1, 3), 'max_features': 10010, 'max_iter': 490, 'use_tf_idf': False, 'analyzer': 'word'}\n",
            "Accuracy for combination is: 0.5082660515186467\n",
            "Agent is spanned with current combination: {'C': 1.1, 'fit_intercept': False, 'ngram_range': (1, 3), 'max_features': 10010, 'max_iter': 510, 'use_tf_idf': True, 'analyzer': 'word'}\n",
            "Accuracy for combination is: 0.526239907727797\n",
            "Agent is spanned with current combination: {'C': 1.1, 'fit_intercept': False, 'ngram_range': (1, 3), 'max_features': 10010, 'max_iter': 510, 'use_tf_idf': False, 'analyzer': 'word'}\n",
            "Accuracy for combination is: 0.5082660515186467\n",
            "Agent is spanned with current combination: {'C': 1.2000000000000002, 'fit_intercept': False, 'ngram_range': (1, 3), 'max_features': 10005, 'max_iter': 490, 'use_tf_idf': True, 'analyzer': 'word'}\n",
            "Accuracy for combination is: 0.5266884531590414\n",
            "Agent is spanned with current combination: {'C': 1.2000000000000002, 'fit_intercept': False, 'ngram_range': (1, 3), 'max_features': 10005, 'max_iter': 490, 'use_tf_idf': False, 'analyzer': 'word'}\n",
            "Accuracy for combination is: 0.5081378956811483\n",
            "Agent is spanned with current combination: {'C': 1.2000000000000002, 'fit_intercept': False, 'ngram_range': (1, 3), 'max_features': 10005, 'max_iter': 510, 'use_tf_idf': True, 'analyzer': 'word'}\n",
            "Accuracy for combination is: 0.5266884531590414\n",
            "Agent is spanned with current combination: {'C': 1.2000000000000002, 'fit_intercept': False, 'ngram_range': (1, 3), 'max_features': 10005, 'max_iter': 510, 'use_tf_idf': False, 'analyzer': 'word'}\n",
            "Accuracy for combination is: 0.5081378956811483\n",
            "Agent is spanned with current combination: {'C': 1.2000000000000002, 'fit_intercept': False, 'ngram_range': (1, 3), 'max_features': 10010, 'max_iter': 490, 'use_tf_idf': True, 'analyzer': 'word'}\n",
            "Accuracy for combination is: 0.5269127258746636\n",
            "Agent is spanned with current combination: {'C': 1.2000000000000002, 'fit_intercept': False, 'ngram_range': (1, 3), 'max_features': 10010, 'max_iter': 490, 'use_tf_idf': False, 'analyzer': 'word'}\n",
            "Accuracy for combination is: 0.5080738177623991\n",
            "Agent is spanned with current combination: {'C': 1.2000000000000002, 'fit_intercept': False, 'ngram_range': (1, 3), 'max_features': 10010, 'max_iter': 510, 'use_tf_idf': True, 'analyzer': 'word'}\n",
            "Accuracy for combination is: 0.5269127258746636\n",
            "Agent is spanned with current combination: {'C': 1.2000000000000002, 'fit_intercept': False, 'ngram_range': (1, 3), 'max_features': 10010, 'max_iter': 510, 'use_tf_idf': False, 'analyzer': 'word'}\n",
            "Accuracy for combination is: 0.5080738177623991\n",
            "Optimus hyper-space is instantiated\n",
            "Total: 16 possible combinations:\n",
            "[{'C': 1.2000000000000002, 'fit_intercept': False, 'ngram_range': (1, 3), 'max_features': 10010, 'max_iter': 485, 'use_tf_idf': True, 'analyzer': 'word'}, {'C': 1.2000000000000002, 'fit_intercept': False, 'ngram_range': (1, 3), 'max_features': 10010, 'max_iter': 485, 'use_tf_idf': False, 'analyzer': 'word'}, {'C': 1.2000000000000002, 'fit_intercept': False, 'ngram_range': (1, 3), 'max_features': 10010, 'max_iter': 515, 'use_tf_idf': True, 'analyzer': 'word'}, {'C': 1.2000000000000002, 'fit_intercept': False, 'ngram_range': (1, 3), 'max_features': 10010, 'max_iter': 515, 'use_tf_idf': False, 'analyzer': 'word'}, {'C': 1.2000000000000002, 'fit_intercept': False, 'ngram_range': (1, 3), 'max_features': 10015, 'max_iter': 485, 'use_tf_idf': True, 'analyzer': 'word'}, {'C': 1.2000000000000002, 'fit_intercept': False, 'ngram_range': (1, 3), 'max_features': 10015, 'max_iter': 485, 'use_tf_idf': False, 'analyzer': 'word'}, {'C': 1.2000000000000002, 'fit_intercept': False, 'ngram_range': (1, 3), 'max_features': 10015, 'max_iter': 515, 'use_tf_idf': True, 'analyzer': 'word'}, {'C': 1.2000000000000002, 'fit_intercept': False, 'ngram_range': (1, 3), 'max_features': 10015, 'max_iter': 515, 'use_tf_idf': False, 'analyzer': 'word'}, {'C': 1.3000000000000003, 'fit_intercept': False, 'ngram_range': (1, 3), 'max_features': 10010, 'max_iter': 485, 'use_tf_idf': True, 'analyzer': 'word'}, {'C': 1.3000000000000003, 'fit_intercept': False, 'ngram_range': (1, 3), 'max_features': 10010, 'max_iter': 485, 'use_tf_idf': False, 'analyzer': 'word'}, {'C': 1.3000000000000003, 'fit_intercept': False, 'ngram_range': (1, 3), 'max_features': 10010, 'max_iter': 515, 'use_tf_idf': True, 'analyzer': 'word'}, {'C': 1.3000000000000003, 'fit_intercept': False, 'ngram_range': (1, 3), 'max_features': 10010, 'max_iter': 515, 'use_tf_idf': False, 'analyzer': 'word'}, {'C': 1.3000000000000003, 'fit_intercept': False, 'ngram_range': (1, 3), 'max_features': 10015, 'max_iter': 485, 'use_tf_idf': True, 'analyzer': 'word'}, {'C': 1.3000000000000003, 'fit_intercept': False, 'ngram_range': (1, 3), 'max_features': 10015, 'max_iter': 485, 'use_tf_idf': False, 'analyzer': 'word'}, {'C': 1.3000000000000003, 'fit_intercept': False, 'ngram_range': (1, 3), 'max_features': 10015, 'max_iter': 515, 'use_tf_idf': True, 'analyzer': 'word'}, {'C': 1.3000000000000003, 'fit_intercept': False, 'ngram_range': (1, 3), 'max_features': 10015, 'max_iter': 515, 'use_tf_idf': False, 'analyzer': 'word'}]\n"
          ],
          "name": "stdout"
        }
      ]
    },
    {
      "cell_type": "code",
      "metadata": {
        "id": "golrxwzqrd5x",
        "colab_type": "code",
        "colab": {}
      },
      "source": [
        ""
      ],
      "execution_count": 0,
      "outputs": []
    }
  ]
}